{
 "cells": [
  {
   "cell_type": "code",
   "execution_count": 16,
   "id": "efaa48e3-77e4-4359-a190-7ddfb24dfac1",
   "metadata": {},
   "outputs": [
    {
     "name": "stdout",
     "output_type": "stream",
     "text": [
      "Channels:\n",
      " - defaults\n",
      " - conda-forge\n",
      " - pytorch\n",
      "Platform: win-64\n",
      "Collecting package metadata (repodata.json): ...working... done\n",
      "Solving environment: ...working... done\n",
      "\n",
      "## Package Plan ##\n",
      "\n",
      "  environment location: C:\\Users\\micha\\anaconda3\n",
      "\n",
      "  added / updated specs:\n",
      "    - geopy\n",
      "\n",
      "\n",
      "The following packages will be downloaded:\n",
      "\n",
      "    package                    |            build\n",
      "    ---------------------------|-----------------\n",
      "    ca-certificates-2024.11.26 |       haa95532_0         132 KB\n",
      "    conda-24.11.0              |  py311haa95532_0         1.2 MB\n",
      "    geographiclib-2.0          |  py311haa95532_0          87 KB\n",
      "    geopy-2.4.1                |  py311haa95532_0         198 KB\n",
      "    ------------------------------------------------------------\n",
      "                                           Total:         1.6 MB\n",
      "\n",
      "The following NEW packages will be INSTALLED:\n",
      "\n",
      "  geographiclib      pkgs/main/win-64::geographiclib-2.0-py311haa95532_0 \n",
      "  geopy              pkgs/main/win-64::geopy-2.4.1-py311haa95532_0 \n",
      "\n",
      "The following packages will be UPDATED:\n",
      "\n",
      "  ca-certificates                       2024.7.2-haa95532_0 --> 2024.11.26-haa95532_0 \n",
      "  conda                              24.7.1-py311haa95532_0 --> 24.11.0-py311haa95532_0 \n",
      "\n",
      "\n",
      "\n",
      "Downloading and Extracting Packages: ...working... done\n",
      "Preparing transaction: ...working... done\n",
      "Verifying transaction: ...working... done\n",
      "Executing transaction: ...working... done\n",
      "\n",
      "(base) C:\\Users\\micha\\OneDrive\\Documents\\Projects\\Cmin>L \"C:\\Users\\micha\\anaconda3\\condabin\\..\\Scripts\\conda.exe\"   install --yes --prefix C:\\Users\\micha\\anaconda3 geopy \n",
      "\n",
      "Note: you may need to restart the kernel to use updated packages.\n"
     ]
    },
    {
     "name": "stderr",
     "output_type": "stream",
     "text": [
      "'L' is not recognized as an internal or external command,\n",
      "operable program or batch file.\n"
     ]
    }
   ],
   "source": [
    "conda install geopy"
   ]
  },
  {
   "cell_type": "code",
   "execution_count": 17,
   "id": "2ee8a0dd-45ce-4153-ba28-fa692a84b309",
   "metadata": {},
   "outputs": [],
   "source": [
    "import meteostat\n",
    "import geopy"
   ]
  },
  {
   "cell_type": "code",
   "execution_count": 37,
   "id": "af084024-5e29-47be-ba7b-2c4f8d7e7853",
   "metadata": {},
   "outputs": [
    {
     "name": "stdout",
     "output_type": "stream",
     "text": [
      "Coordinates of Mickleton, New Jersey:\n",
      "Latitude: 39.7901134, Longitude: -75.2376834\n",
      "Temperature on 2023-12-01:\n",
      "Min: 1.7°C\n",
      "Max: 9.4°C\n"
     ]
    },
    {
     "name": "stderr",
     "output_type": "stream",
     "text": [
      "FutureWarning: Series.__getitem__ treating keys as positions is deprecated. In a future version, integer keys will always be treated as labels (consistent with DataFrame behavior). To access a value by position, use `ser.iloc[pos]`\n",
      "FutureWarning: Series.__getitem__ treating keys as positions is deprecated. In a future version, integer keys will always be treated as labels (consistent with DataFrame behavior). To access a value by position, use `ser.iloc[pos]`\n"
     ]
    }
   ],
   "source": [
    "from geopy.geocoders import Nominatim\n",
    "\n",
    "# Initialize the geolocator\n",
    "geolocator = Nominatim(user_agent=\"geo_locator\")\n",
    "\n",
    "# Specify the city\n",
    "city = \"Mickleton, New Jersey\"\n",
    "\n",
    "# Get the location\n",
    "location = geolocator.geocode(city)\n",
    "\n",
    "# Print the coordinates\n",
    "if location:\n",
    "    print(f\"Coordinates of {city}:\")\n",
    "    print(f\"Latitude: {location.latitude}, Longitude: {location.longitude}\")\n",
    "else:\n",
    "    print(f\"Could not find coordinates for {city}\")\n",
    "\n",
    "stations = Stations()\n",
    "\n",
    "ohthatstheone = stations.nearby(location.latitude,location.longitude).fetch().head(1)\n",
    "ohthatstheone['latitude']\n",
    "weather_location = Point(ohthatstheone['latitude'],ohthatstheone['longitude'])\n",
    "weather_location\n",
    "\n",
    "data = Daily(weather_location, start_date, end_date)\n",
    "data = data.fetch()\n",
    "\n",
    "# Print the temperature data\n",
    "print(f\"Temperature on {start_date.date()}:\")\n",
    "print(f\"Min: {data['tmin'][0]}°C\")\n",
    "print(f\"Max: {data['tmax'][0]}°C\")"
   ]
  },
  {
   "cell_type": "code",
   "execution_count": 12,
   "id": "e56769d3-0aa3-43ec-b18b-909d2738e251",
   "metadata": {},
   "outputs": [
    {
     "data": {
      "text/plain": [
       "15921"
      ]
     },
     "execution_count": 12,
     "metadata": {},
     "output_type": "execute_result"
    }
   ],
   "source": [
    "from meteostat import Stations\n",
    "\n",
    "# Initialize the Stations class\n",
    "stations = Stations()\n",
    "\n",
    "# Filter by country code 'CA' (Canada) and state code 'ON' (Ontario)\n",
    "stations.count()"
   ]
  },
  {
   "cell_type": "code",
   "execution_count": 14,
   "id": "c1245655-80e7-4fd4-aaea-0ad2e3d5f9aa",
   "metadata": {},
   "outputs": [
    {
     "data": {
      "text/html": [
       "<div>\n",
       "<style scoped>\n",
       "    .dataframe tbody tr th:only-of-type {\n",
       "        vertical-align: middle;\n",
       "    }\n",
       "\n",
       "    .dataframe tbody tr th {\n",
       "        vertical-align: top;\n",
       "    }\n",
       "\n",
       "    .dataframe thead th {\n",
       "        text-align: right;\n",
       "    }\n",
       "</style>\n",
       "<table border=\"1\" class=\"dataframe\">\n",
       "  <thead>\n",
       "    <tr style=\"text-align: right;\">\n",
       "      <th></th>\n",
       "      <th>name</th>\n",
       "      <th>latitude</th>\n",
       "      <th>longitude</th>\n",
       "      <th>elevation</th>\n",
       "    </tr>\n",
       "    <tr>\n",
       "      <th>id</th>\n",
       "      <th></th>\n",
       "      <th></th>\n",
       "      <th></th>\n",
       "      <th></th>\n",
       "    </tr>\n",
       "  </thead>\n",
       "  <tbody>\n",
       "    <tr>\n",
       "      <th>84628</th>\n",
       "      <td>Lima-Callao / Aerop. Internacional Jorgechavez</td>\n",
       "      <td>-12.0000</td>\n",
       "      <td>-77.1167</td>\n",
       "      <td>12.0</td>\n",
       "    </tr>\n",
       "    <tr>\n",
       "      <th>84691</th>\n",
       "      <td>Pisco</td>\n",
       "      <td>-13.7500</td>\n",
       "      <td>-76.2833</td>\n",
       "      <td>8.0</td>\n",
       "    </tr>\n",
       "    <tr>\n",
       "      <th>84564</th>\n",
       "      <td>Huanuco</td>\n",
       "      <td>-9.9000</td>\n",
       "      <td>-75.7500</td>\n",
       "      <td>1859.0</td>\n",
       "    </tr>\n",
       "    <tr>\n",
       "      <th>SPMF0</th>\n",
       "      <td>Mazamari</td>\n",
       "      <td>-11.3254</td>\n",
       "      <td>-74.5356</td>\n",
       "      <td>685.0</td>\n",
       "    </tr>\n",
       "    <tr>\n",
       "      <th>84542</th>\n",
       "      <td>Anta Huaraz</td>\n",
       "      <td>-9.3500</td>\n",
       "      <td>-77.6000</td>\n",
       "      <td>2750.0</td>\n",
       "    </tr>\n",
       "    <tr>\n",
       "      <th>...</th>\n",
       "      <td>...</td>\n",
       "      <td>...</td>\n",
       "      <td>...</td>\n",
       "      <td>...</td>\n",
       "    </tr>\n",
       "    <tr>\n",
       "      <th>VDSV0</th>\n",
       "      <td>Sihanoukville / Phum? Bát Tráng (1)</td>\n",
       "      <td>10.5797</td>\n",
       "      <td>103.6370</td>\n",
       "      <td>10.0</td>\n",
       "    </tr>\n",
       "    <tr>\n",
       "      <th>48966</th>\n",
       "      <td>Siemreap</td>\n",
       "      <td>13.3667</td>\n",
       "      <td>103.8500</td>\n",
       "      <td>15.0</td>\n",
       "    </tr>\n",
       "    <tr>\n",
       "      <th>48480</th>\n",
       "      <td>Chanthaburi</td>\n",
       "      <td>12.6000</td>\n",
       "      <td>102.1167</td>\n",
       "      <td>3.0</td>\n",
       "    </tr>\n",
       "    <tr>\n",
       "      <th>48481</th>\n",
       "      <td>Phliu Agromet / Ban Na Pa</td>\n",
       "      <td>12.5103</td>\n",
       "      <td>102.1697</td>\n",
       "      <td>22.0</td>\n",
       "    </tr>\n",
       "    <tr>\n",
       "      <th>48501</th>\n",
       "      <td>Khlong Yai</td>\n",
       "      <td>11.7667</td>\n",
       "      <td>102.8833</td>\n",
       "      <td>2.0</td>\n",
       "    </tr>\n",
       "  </tbody>\n",
       "</table>\n",
       "<p>15921 rows × 4 columns</p>\n",
       "</div>"
      ],
      "text/plain": [
       "                                                 name  latitude  longitude  \\\n",
       "id                                                                           \n",
       "84628  Lima-Callao / Aerop. Internacional Jorgechavez  -12.0000   -77.1167   \n",
       "84691                                           Pisco  -13.7500   -76.2833   \n",
       "84564                                         Huanuco   -9.9000   -75.7500   \n",
       "SPMF0                                        Mazamari  -11.3254   -74.5356   \n",
       "84542                                     Anta Huaraz   -9.3500   -77.6000   \n",
       "...                                               ...       ...        ...   \n",
       "VDSV0             Sihanoukville / Phum? Bát Tráng (1)   10.5797   103.6370   \n",
       "48966                                        Siemreap   13.3667   103.8500   \n",
       "48480                                     Chanthaburi   12.6000   102.1167   \n",
       "48481                       Phliu Agromet / Ban Na Pa   12.5103   102.1697   \n",
       "48501                                      Khlong Yai   11.7667   102.8833   \n",
       "\n",
       "       elevation  \n",
       "id                \n",
       "84628       12.0  \n",
       "84691        8.0  \n",
       "84564     1859.0  \n",
       "SPMF0      685.0  \n",
       "84542     2750.0  \n",
       "...          ...  \n",
       "VDSV0       10.0  \n",
       "48966       15.0  \n",
       "48480        3.0  \n",
       "48481       22.0  \n",
       "48501        2.0  \n",
       "\n",
       "[15921 rows x 4 columns]"
      ]
     },
     "execution_count": 14,
     "metadata": {},
     "output_type": "execute_result"
    }
   ],
   "source": [
    "from meteostat import Stations\n",
    "import pandas as pd\n",
    "\n",
    "# Set the location coordinates (for example, Lima, Peru)\n",
    "lat, lon = -12.0467, -77.0428  # Lima, Peru\n",
    "\n",
    "# Search for stations within a certain distance (e.g., 100 km)\n",
    "stations = Stations()\n",
    "stations = stations.nearby(lat, lon).fetch()\n",
    "\n",
    "# Show the stations near the location\n",
    "stations[['name', 'latitude', 'longitude', 'elevation']]\n"
   ]
  },
  {
   "cell_type": "code",
   "execution_count": 7,
   "id": "de91a37c-a66b-46bd-b091-dc8b11d87a6b",
   "metadata": {},
   "outputs": [
    {
     "name": "stdout",
     "output_type": "stream",
     "text": [
      "Temperature on 2023-12-01:\n"
     ]
    },
    {
     "ename": "KeyError",
     "evalue": "0",
     "output_type": "error",
     "traceback": [
      "\u001b[1;31m---------------------------------------------------------------------------\u001b[0m",
      "\u001b[1;31mValueError\u001b[0m                                Traceback (most recent call last)",
      "File \u001b[1;32m~\\anaconda3\\Lib\\site-packages\\pandas\\core\\indexes\\range.py:414\u001b[0m, in \u001b[0;36mRangeIndex.get_loc\u001b[1;34m(self, key)\u001b[0m\n\u001b[0;32m    413\u001b[0m \u001b[38;5;28;01mtry\u001b[39;00m:\n\u001b[1;32m--> 414\u001b[0m     \u001b[38;5;28;01mreturn\u001b[39;00m \u001b[38;5;28mself\u001b[39m\u001b[38;5;241m.\u001b[39m_range\u001b[38;5;241m.\u001b[39mindex(new_key)\n\u001b[0;32m    415\u001b[0m \u001b[38;5;28;01mexcept\u001b[39;00m \u001b[38;5;167;01mValueError\u001b[39;00m \u001b[38;5;28;01mas\u001b[39;00m err:\n",
      "\u001b[1;31mValueError\u001b[0m: 0 is not in range",
      "\nThe above exception was the direct cause of the following exception:\n",
      "\u001b[1;31mKeyError\u001b[0m                                  Traceback (most recent call last)",
      "Cell \u001b[1;32mIn[7], line 17\u001b[0m\n\u001b[0;32m     15\u001b[0m \u001b[38;5;66;03m# Print the temperature data\u001b[39;00m\n\u001b[0;32m     16\u001b[0m \u001b[38;5;28mprint\u001b[39m(\u001b[38;5;124mf\u001b[39m\u001b[38;5;124m\"\u001b[39m\u001b[38;5;124mTemperature on \u001b[39m\u001b[38;5;132;01m{\u001b[39;00mstart_date\u001b[38;5;241m.\u001b[39mdate()\u001b[38;5;132;01m}\u001b[39;00m\u001b[38;5;124m:\u001b[39m\u001b[38;5;124m\"\u001b[39m)\n\u001b[1;32m---> 17\u001b[0m \u001b[38;5;28mprint\u001b[39m(\u001b[38;5;124mf\u001b[39m\u001b[38;5;124m\"\u001b[39m\u001b[38;5;124mMin: \u001b[39m\u001b[38;5;132;01m{\u001b[39;00mdata[\u001b[38;5;124m'\u001b[39m\u001b[38;5;124mtmin\u001b[39m\u001b[38;5;124m'\u001b[39m][\u001b[38;5;241m0\u001b[39m]\u001b[38;5;132;01m}\u001b[39;00m\u001b[38;5;124m°C\u001b[39m\u001b[38;5;124m\"\u001b[39m)\n\u001b[0;32m     18\u001b[0m \u001b[38;5;28mprint\u001b[39m(\u001b[38;5;124mf\u001b[39m\u001b[38;5;124m\"\u001b[39m\u001b[38;5;124mMax: \u001b[39m\u001b[38;5;132;01m{\u001b[39;00mdata[\u001b[38;5;124m'\u001b[39m\u001b[38;5;124mtmax\u001b[39m\u001b[38;5;124m'\u001b[39m][\u001b[38;5;241m0\u001b[39m]\u001b[38;5;132;01m}\u001b[39;00m\u001b[38;5;124m°C\u001b[39m\u001b[38;5;124m\"\u001b[39m)\n",
      "File \u001b[1;32m~\\anaconda3\\Lib\\site-packages\\pandas\\core\\series.py:1040\u001b[0m, in \u001b[0;36mSeries.__getitem__\u001b[1;34m(self, key)\u001b[0m\n\u001b[0;32m   1037\u001b[0m     \u001b[38;5;28;01mreturn\u001b[39;00m \u001b[38;5;28mself\u001b[39m\u001b[38;5;241m.\u001b[39m_values[key]\n\u001b[0;32m   1039\u001b[0m \u001b[38;5;28;01melif\u001b[39;00m key_is_scalar:\n\u001b[1;32m-> 1040\u001b[0m     \u001b[38;5;28;01mreturn\u001b[39;00m \u001b[38;5;28mself\u001b[39m\u001b[38;5;241m.\u001b[39m_get_value(key)\n\u001b[0;32m   1042\u001b[0m \u001b[38;5;66;03m# Convert generator to list before going through hashable part\u001b[39;00m\n\u001b[0;32m   1043\u001b[0m \u001b[38;5;66;03m# (We will iterate through the generator there to check for slices)\u001b[39;00m\n\u001b[0;32m   1044\u001b[0m \u001b[38;5;28;01mif\u001b[39;00m is_iterator(key):\n",
      "File \u001b[1;32m~\\anaconda3\\Lib\\site-packages\\pandas\\core\\series.py:1156\u001b[0m, in \u001b[0;36mSeries._get_value\u001b[1;34m(self, label, takeable)\u001b[0m\n\u001b[0;32m   1153\u001b[0m     \u001b[38;5;28;01mreturn\u001b[39;00m \u001b[38;5;28mself\u001b[39m\u001b[38;5;241m.\u001b[39m_values[label]\n\u001b[0;32m   1155\u001b[0m \u001b[38;5;66;03m# Similar to Index.get_value, but we do not fall back to positional\u001b[39;00m\n\u001b[1;32m-> 1156\u001b[0m loc \u001b[38;5;241m=\u001b[39m \u001b[38;5;28mself\u001b[39m\u001b[38;5;241m.\u001b[39mindex\u001b[38;5;241m.\u001b[39mget_loc(label)\n\u001b[0;32m   1158\u001b[0m \u001b[38;5;28;01mif\u001b[39;00m is_integer(loc):\n\u001b[0;32m   1159\u001b[0m     \u001b[38;5;28;01mreturn\u001b[39;00m \u001b[38;5;28mself\u001b[39m\u001b[38;5;241m.\u001b[39m_values[loc]\n",
      "File \u001b[1;32m~\\anaconda3\\Lib\\site-packages\\pandas\\core\\indexes\\range.py:416\u001b[0m, in \u001b[0;36mRangeIndex.get_loc\u001b[1;34m(self, key)\u001b[0m\n\u001b[0;32m    414\u001b[0m         \u001b[38;5;28;01mreturn\u001b[39;00m \u001b[38;5;28mself\u001b[39m\u001b[38;5;241m.\u001b[39m_range\u001b[38;5;241m.\u001b[39mindex(new_key)\n\u001b[0;32m    415\u001b[0m     \u001b[38;5;28;01mexcept\u001b[39;00m \u001b[38;5;167;01mValueError\u001b[39;00m \u001b[38;5;28;01mas\u001b[39;00m err:\n\u001b[1;32m--> 416\u001b[0m         \u001b[38;5;28;01mraise\u001b[39;00m \u001b[38;5;167;01mKeyError\u001b[39;00m(key) \u001b[38;5;28;01mfrom\u001b[39;00m \u001b[38;5;21;01merr\u001b[39;00m\n\u001b[0;32m    417\u001b[0m \u001b[38;5;28;01mif\u001b[39;00m \u001b[38;5;28misinstance\u001b[39m(key, Hashable):\n\u001b[0;32m    418\u001b[0m     \u001b[38;5;28;01mraise\u001b[39;00m \u001b[38;5;167;01mKeyError\u001b[39;00m(key)\n",
      "\u001b[1;31mKeyError\u001b[0m: 0"
     ]
    }
   ],
   "source": [
    "from datetime import datetime\n",
    "from meteostat import Point, Daily\n",
    "\n",
    "# Define the location (latitude, longitude, and elevation)\n",
    "location = Point(12.0467, -77.0428)  # Coordinates for London\n",
    "\n",
    "# Define the date (e.g., December 1, 2023)\n",
    "start_date = datetime(2023, 12, 1)\n",
    "end_date = datetime(2023, 12, 1)\n",
    "\n",
    "# Get historical daily weather data for the location\n",
    "data = Daily(location, start_date, end_date)\n",
    "data = data.fetch()\n",
    "\n",
    "# Print the temperature data\n",
    "print(f\"Temperature on {start_date.date()}:\")\n",
    "print(f\"Min: {data['tmin'][0]}°C\")\n",
    "print(f\"Max: {data['tmax'][0]}°C\")\n"
   ]
  }
 ],
 "metadata": {
  "kernelspec": {
   "display_name": "Python 3 (ipykernel)",
   "language": "python",
   "name": "python3"
  },
  "language_info": {
   "codemirror_mode": {
    "name": "ipython",
    "version": 3
   },
   "file_extension": ".py",
   "mimetype": "text/x-python",
   "name": "python",
   "nbconvert_exporter": "python",
   "pygments_lexer": "ipython3",
   "version": "3.11.5"
  }
 },
 "nbformat": 4,
 "nbformat_minor": 5
}
